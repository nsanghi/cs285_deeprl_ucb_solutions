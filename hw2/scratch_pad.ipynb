{
 "cells": [
  {
   "cell_type": "code",
   "execution_count": 2,
   "source": [
    "import numpy as np"
   ],
   "outputs": [],
   "metadata": {}
  },
  {
   "cell_type": "code",
   "execution_count": 7,
   "source": [
    "gamma = 0.9\n",
    "\n",
    "def _discounted_return(rewards):\n",
    "    \"\"\"\n",
    "        Helper function\n",
    "\n",
    "        Input: list of rewards {r_0, r_1, ..., r_t', ... r_T} from a single rollout of length T\n",
    "\n",
    "        Output: list where each index t contains sum_{t'=0}^T gamma^t' r_{t'}\n",
    "    \"\"\"\n",
    "\n",
    "    # TODO: create list_of_discounted_returns\n",
    "    dis_returns = [(gamma)**t * r_t for t, r_t in zip(range(len(rewards)), rewards)]\n",
    "    list_of_discounted_returns =[ np.sum(dis_returns)]*len(rewards)\n",
    "\n",
    "    return list_of_discounted_returns\n",
    "\n",
    "def _discounted_cumsum(rewards):\n",
    "    \"\"\"\n",
    "    Helper function which\n",
    "    -takes a list of rewards {r_0, r_1, ..., r_t', ... r_T},\n",
    "    -and returns a list where the entry in each index t' is sum_{t'=t}^T gamma^(t'-t) * r_{t'}\n",
    "    \"\"\"\n",
    "\n",
    "    # TODO: create `list_of_discounted_returns`\n",
    "    # HINT: it is possible to write a vectorized solution, but a solution\n",
    "    # using a for loop is also fine\n",
    "    dis_returns = np.array([(gamma)**t * r_t for t, r_t in zip(range(len(rewards)), rewards)])\n",
    "    discounts = np.array([(gamma)**t for t in range(len(rewards))])\n",
    "    cum_dis_returns = dis_returns[::-1].cumsum()[::-1]\n",
    "    list_of_discounted_cumsums = (cum_dis_returns/discounts).tolist()\n",
    "\n",
    "    return list_of_discounted_cumsums\n",
    "\n"
   ],
   "outputs": [],
   "metadata": {}
  },
  {
   "cell_type": "code",
   "execution_count": 8,
   "source": [
    "rewards = [0.10,0.40,0.30,0.50,0.10,0.30,0.90,1.50,0.30,0.20]\n",
    "reward_1 = _discounted_return(rewards)\n",
    "reward_2 = _discounted_cumsum(rewards)\n",
    "print(reward_1)\n",
    "print(reward_2)"
   ],
   "outputs": [
    {
     "output_type": "stream",
     "name": "stdout",
     "text": [
      "[2.7126235108000007, 2.7126235108000007, 2.7126235108000007, 2.7126235108000007, 2.7126235108000007, 2.7126235108000007, 2.7126235108000007, 2.7126235108000007, 2.7126235108000007, 2.7126235108000007]\n",
      "[2.7126235108, 2.902915012, 2.7810166799999996, 2.7566851999999997, 2.5074280000000004, 2.67492, 2.6388000000000003, 1.932, 0.48000000000000004, 0.2]\n"
     ]
    }
   ],
   "metadata": {}
  },
  {
   "cell_type": "code",
   "execution_count": 12,
   "source": [
    "l1 = [1,2,3,4,5]\n",
    "l2 = [6,7,8,9]\n",
    "l= [l1,l2]\n",
    "print(l, np.array(l))"
   ],
   "outputs": [
    {
     "output_type": "stream",
     "name": "stdout",
     "text": [
      "[[1, 2, 3, 4, 5], [6, 7, 8, 9]] [list([1, 2, 3, 4, 5]) list([6, 7, 8, 9])]\n"
     ]
    },
    {
     "output_type": "stream",
     "name": "stderr",
     "text": [
      "/home/nimish/anaconda3/envs/cs285/lib/python3.6/site-packages/ipykernel_launcher.py:4: VisibleDeprecationWarning: Creating an ndarray from ragged nested sequences (which is a list-or-tuple of lists-or-tuples-or ndarrays with different lengths or shapes) is deprecated. If you meant to do this, you must specify 'dtype=object' when creating the ndarray\n",
      "  after removing the cwd from sys.path.\n"
     ]
    }
   ],
   "metadata": {}
  }
 ],
 "metadata": {
  "orig_nbformat": 4,
  "language_info": {
   "name": "python",
   "version": "3.6.13",
   "mimetype": "text/x-python",
   "codemirror_mode": {
    "name": "ipython",
    "version": 3
   },
   "pygments_lexer": "ipython3",
   "nbconvert_exporter": "python",
   "file_extension": ".py"
  },
  "kernelspec": {
   "name": "python3",
   "display_name": "Python 3.6.13 64-bit ('cs285': conda)"
  },
  "interpreter": {
   "hash": "71b61e8de93413ca2dd311d83674e2c22c6f62605033844c9a938f33bc85a431"
  }
 },
 "nbformat": 4,
 "nbformat_minor": 2
}